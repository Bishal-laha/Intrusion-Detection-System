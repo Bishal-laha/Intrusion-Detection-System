{
 "cells": [
  {
   "cell_type": "code",
   "execution_count": 1,
   "id": "9e7558e4",
   "metadata": {},
   "outputs": [],
   "source": [
    "# For reading, visualizing, and preprocessing data\n",
    "import numpy as np\n",
    "import pandas as pd\n",
    "import seaborn as sns\n",
    "import itertools\n",
    "import time\n",
    "import matplotlib.pyplot as plt\n",
    "from sklearn.datasets import make_classification\n",
    "from sklearn import model_selection\n",
    "from sklearn.model_selection import train_test_split, GridSearchCV\n",
    "from sklearn.preprocessing import StandardScaler\n",
    "from sklearn.pipeline import Pipeline\n",
    "from sklearn import metrics\n",
    "from sklearn.model_selection import train_test_split\n",
    "from sklearn.preprocessing import MinMaxScaler\n",
    "from sklearn.metrics import accuracy_score, matthews_corrcoef, f1_score, precision_score, recall_score, cohen_kappa_score, log_loss, roc_auc_score\n",
    "from sklearn.metrics import confusion_matrix\n",
    "from sklearn.metrics import classification_report\n",
    "\n",
    "# Classifiers\n",
    "from sklearn.svm import NuSVC, SVC\n",
    "from sklearn.neural_network import MLPClassifier\n",
    "from sklearn.ensemble import RandomForestClassifier\n",
    "from sklearn.naive_bayes import GaussianNB\n",
    "from sklearn.tree import DecisionTreeClassifier \n",
    "from sklearn.neighbors import KNeighborsClassifier\n",
    "from sklearn.linear_model import LogisticRegression\n",
    "from sklearn.ensemble import StackingClassifier\n",
    "# from tensorflow.keras.models import Sequential\n",
    "#from mlxtend.classifier import StackingCVClassifier \n",
    "\n",
    "# Used to ignore warnings generated from StackingCVClassifier\n",
    "import warnings\n",
    "warnings.simplefilter('ignore')"
   ]
  },
  {
   "cell_type": "code",
   "execution_count": 2,
   "id": "45d3e0dd",
   "metadata": {},
   "outputs": [],
   "source": [
    "data = pd.read_csv(\".\\\\numeric_data.csv\")\n",
    "pd.set_option('display.max_rows', 500)\n",
    "pd.set_option('display.max_columns', 500)"
   ]
  },
  {
   "cell_type": "code",
   "execution_count": 3,
   "id": "42d650b0",
   "metadata": {},
   "outputs": [],
   "source": [
    "numeric_data = data.copy()\n",
    "numeric_data.drop(columns=numeric_data.columns[0],axis=1,inplace=True)"
   ]
  },
  {
   "cell_type": "code",
   "execution_count": 4,
   "id": "8fddb8c7",
   "metadata": {},
   "outputs": [
    {
     "name": "stdout",
     "output_type": "stream",
     "text": [
      "(100778, 93) (25195, 93)\n",
      "(100778,) (25195,)\n"
     ]
    }
   ],
   "source": [
    "X = numeric_data.iloc[:,0:93].to_numpy() \n",
    "Y = numeric_data['intrusion_no']\n",
    "X_train, X_test, Y_train, Y_test = train_test_split(X,Y, test_size=0.20, random_state=42)\n",
    "print(X_train.shape, X_test.shape)\n",
    "print(Y_train.shape, Y_test.shape)"
   ]
  },
  {
   "cell_type": "code",
   "execution_count": 5,
   "id": "424ed817",
   "metadata": {},
   "outputs": [],
   "source": [
    "def matrix(Y_test,Y_test_pred,name):\n",
    "    # Calculate the confusion matrix\n",
    "    conf_matrix = confusion_matrix(y_true=Y_test, y_pred=Y_test_pred)\n",
    "    # Print the confusion matrix using Matplotlib\n",
    "    fig, ax = plt.subplots(figsize=(5, 5))\n",
    "    ax.matshow(conf_matrix, cmap=plt.cm.Blues, alpha=0.3)\n",
    "    ax.set_title(name); \n",
    "    for i in range(conf_matrix.shape[0]):\n",
    "        for j in range(conf_matrix.shape[1]):\n",
    "            ax.text(x=j, y=i,s=conf_matrix[i, j], va='center', ha='center', size='large')"
   ]
  },
  {
   "cell_type": "code",
   "execution_count": 6,
   "id": "ba3f457c",
   "metadata": {},
   "outputs": [],
   "source": [
    "def plot(Y_test,Y_test_pred,name):\n",
    "    plt.figure(figsize=(22,10))\n",
    "    plt.plot(Y_test_pred[100:200], label=\"Prediction\", linewidth=2.5,color='blue')\n",
    "    plt.plot(Y_test[100:200].values, label=\"Actual_values\", linewidth=2.5,color='lightcoral')\n",
    "    plt.legend(loc=\"best\")\n",
    "    plt.title(name)\n",
    "    plt.show()"
   ]
  },
  {
   "cell_type": "code",
   "execution_count": null,
   "id": "47fef077",
   "metadata": {},
   "outputs": [
    {
     "name": "stdout",
     "output_type": "stream",
     "text": [
      "\n",
      "\n",
      "(('SVM', SVC(probability=True)), ('KNN', KNeighborsClassifier()), ('GAUSSIAN NB', GaussianNB()))\n"
     ]
    }
   ],
   "source": [
    "from itertools import combinations,product\n",
    "algo_list = [\n",
    "    ('SVM',SVC(gamma = 'scale',probability=True)),\n",
    "    ('KNN',KNeighborsClassifier(5)),\n",
    "    ('GAUSSIAN NB',GaussianNB()),\n",
    "    ('DT',DecisionTreeClassifier(criterion=\"entropy\", max_depth = 4)),\n",
    "    ('RF',RandomForestClassifier(n_estimators=30)),\n",
    "    ('LR',LogisticRegression(max_iter=1200000))\n",
    "    ]\n",
    "list_combo = []\n",
    "for n in range(len(algo_list) + 1):\n",
    "    list_combo += combinations(algo_list, n)\n",
    "res = list_combo[22:27]\n",
    "for i in res:\n",
    "    print('\\n')\n",
    "    print(i)\n",
    "    stack_model = StackingClassifier(estimators=i, final_estimator=MLPClassifier())\n",
    "    start_time = time.time()\n",
    "    stack_model.fit(X_train, Y_train)\n",
    "    end_time = time.time()\n",
    "    print(\"- Training time : \",end_time-start_time)\n",
    "    start_time = time.time()\n",
    "    Y_test_predf1 = stack_model.predict(X_test)\n",
    "    end_time = time.time()\n",
    "    print(\"- Testing time : \",end_time-start_time)\n",
    "    print('----------------------------------')\n",
    "    Y_train_predf1 = stack_model.predict(X_train)\n",
    "    Y_train_probsf1 = stack_model.predict_proba(X_train)\n",
    "    Y_test_probsf1 = stack_model.predict_proba(X_test)\n",
    "\n",
    "    # Training set model performance\n",
    "    stack_model_train_accuracy = accuracy_score(Y_train, Y_train_predf1)\n",
    "    stack_model_train_mcc = matthews_corrcoef(Y_train, Y_train_predf1)\n",
    "    stack_model_train_f1 = f1_score(Y_train, Y_train_predf1, average='weighted') \n",
    "    stack_model_train_precision = precision_score(Y_train, Y_train_predf1,average='weighted')\n",
    "    stack_model_train_recall = recall_score(Y_train, Y_train_predf1, average='weighted')\n",
    "    stack_model_train_ckscore = cohen_kappa_score(Y_train, Y_train_predf1)\n",
    "    stack_model_train_logloss = log_loss(Y_train, Y_train_probsf1)\n",
    "\n",
    "    # Test set model performance\n",
    "    stack_model_test_accuracy = accuracy_score(Y_test, Y_test_predf1) \n",
    "    stack_model_test_mcc = matthews_corrcoef(Y_test, Y_test_predf1)\n",
    "    stack_model_test_f1 = f1_score(Y_test, Y_test_predf1, average='weighted')\n",
    "    stack_model_test_precision = precision_score(Y_test, Y_test_predf1,average='weighted')\n",
    "    stack_model_test_recall = recall_score(Y_test, Y_test_predf1, average='weighted')\n",
    "    stack_model_test_ckscore = cohen_kappa_score(Y_test, Y_test_predf1)\n",
    "    stack_model_test_logloss = log_loss(Y_test, Y_test_probsf1)\n",
    "\n",
    "    print('- Train Accuracy : %s' % stack_model_train_accuracy)\n",
    "    print('- Train MCC : %s' % stack_model_train_mcc)\n",
    "    print('- Train F1 score : %s' % stack_model_train_f1)\n",
    "    print('- Train Precision : %s' % stack_model_train_precision)\n",
    "    print('- Train Recall : %s' % stack_model_train_recall)\n",
    "    print('- Train Cohens Kappa Score : %s' % stack_model_train_ckscore)\n",
    "    print('- Train Log Loss : %s' % stack_model_train_logloss)\n",
    "    print('----------------------------------')\n",
    "    print('Model performance for Test set')\n",
    "    print('- Test Accuracy : %s' % stack_model_test_accuracy)\n",
    "    print('- Test MCC : %s' % stack_model_test_mcc)\n",
    "    print('- Test F1 score : %s' % stack_model_test_f1)\n",
    "    print('- Test Precision : %s' % stack_model_test_precision)\n",
    "    print('- Test Recall : %s' % stack_model_test_recall)\n",
    "    print('- Test Cohens Kappa Score : %s' % stack_model_test_ckscore)\n",
    "    print('- Test Log Loss : %s' % stack_model_test_logloss)\n",
    "    print('----------------------------------')\n",
    "    print(\"Mean Absolute Error - \" , metrics.mean_absolute_error(Y_test, Y_test_predf1))\n",
    "    print(\"Mean Squared Error - \" , metrics.mean_squared_error(Y_test, Y_test_predf1))\n",
    "    print(\"Root Mean Squared Error - \" , np.sqrt(metrics.mean_squared_error(Y_test, Y_test_predf1)))\n",
    "    print('----------------------------------')\n",
    "    matrix(Y_test, Y_test_predf1, i)\n",
    "    plot(Y_test, Y_test_predf1, i)"
   ]
  },
  {
   "cell_type": "code",
   "execution_count": null,
   "id": "7982b8da",
   "metadata": {},
   "outputs": [],
   "source": []
  }
 ],
 "metadata": {
  "kernelspec": {
   "display_name": "Python 3 (ipykernel)",
   "language": "python",
   "name": "python3"
  },
  "language_info": {
   "codemirror_mode": {
    "name": "ipython",
    "version": 3
   },
   "file_extension": ".py",
   "mimetype": "text/x-python",
   "name": "python",
   "nbconvert_exporter": "python",
   "pygments_lexer": "ipython3",
   "version": "3.9.12"
  }
 },
 "nbformat": 4,
 "nbformat_minor": 5
}
