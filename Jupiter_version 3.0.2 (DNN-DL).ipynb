{
 "cells": [
  {
   "cell_type": "code",
   "execution_count": 1,
   "id": "c2c96d5c",
   "metadata": {},
   "outputs": [],
   "source": [
    "import pandas as pd\n",
    "import numpy as np\n",
    "import tensorflow as tf\n",
    "\n",
    "# For reading, visualizing, and preprocessing data\n",
    "import numpy as np\n",
    "import pandas as pd\n",
    "import seaborn as sns\n",
    "import itertools\n",
    "import time\n",
    "import matplotlib.pyplot as plt\n",
    "from sklearn.datasets import make_classification\n",
    "from sklearn import model_selection\n",
    "from sklearn.model_selection import train_test_split, GridSearchCV\n",
    "from sklearn.preprocessing import StandardScaler\n",
    "from sklearn.pipeline import Pipeline\n",
    "from sklearn import metrics\n",
    "from sklearn.model_selection import train_test_split\n",
    "from sklearn.preprocessing import MinMaxScaler\n",
    "from sklearn.metrics import accuracy_score, matthews_corrcoef, f1_score, precision_score, recall_score, cohen_kappa_score, log_loss, roc_auc_score\n",
    "from sklearn.metrics import confusion_matrix\n",
    "from sklearn.metrics import classification_report\n",
    "\n",
    "from tensorflow.keras.models import Sequential\n",
    "from tensorflow.keras.layers import Dense, Dropout, Activation\n",
    "from sklearn.metrics import (precision_score, recall_score,f1_score, accuracy_score)\n",
    "from sklearn.preprocessing import Normalizer\n",
    "import h5py\n",
    "\n",
    "from sklearn.metrics import confusion_matrix\n",
    "\n",
    "import warnings\n",
    "warnings.simplefilter('ignore')"
   ]
  },
  {
   "cell_type": "code",
   "execution_count": 2,
   "id": "9ffb4dc0",
   "metadata": {},
   "outputs": [],
   "source": [
    "data = pd.read_csv(\"dataset_final.csv\")\n",
    "pd.set_option('display.max_rows', 500)\n",
    "pd.set_option('display.max_columns', 500)\n"
   ]
  },
  {
   "cell_type": "code",
   "execution_count": 3,
   "id": "13c2c6d8",
   "metadata": {},
   "outputs": [],
   "source": [
    "numeric_data = data.copy()\n",
    "numeric_data.drop(columns=numeric_data.columns[0],axis=1,inplace=True)"
   ]
  },
  {
   "cell_type": "code",
   "execution_count": 4,
   "id": "2720f837",
   "metadata": {},
   "outputs": [
    {
     "data": {
      "text/html": [
       "<div>\n",
       "<style scoped>\n",
       "    .dataframe tbody tr th:only-of-type {\n",
       "        vertical-align: middle;\n",
       "    }\n",
       "\n",
       "    .dataframe tbody tr th {\n",
       "        vertical-align: top;\n",
       "    }\n",
       "\n",
       "    .dataframe thead th {\n",
       "        text-align: right;\n",
       "    }\n",
       "</style>\n",
       "<table border=\"1\" class=\"dataframe\">\n",
       "  <thead>\n",
       "    <tr style=\"text-align: right;\">\n",
       "      <th></th>\n",
       "      <th>normal</th>\n",
       "      <th>Dos</th>\n",
       "      <th>Probe</th>\n",
       "      <th>R2L</th>\n",
       "      <th>U2R</th>\n",
       "    </tr>\n",
       "  </thead>\n",
       "  <tbody>\n",
       "    <tr>\n",
       "      <th>0</th>\n",
       "      <td>1</td>\n",
       "      <td>0</td>\n",
       "      <td>0</td>\n",
       "      <td>0</td>\n",
       "      <td>0</td>\n",
       "    </tr>\n",
       "    <tr>\n",
       "      <th>1</th>\n",
       "      <td>1</td>\n",
       "      <td>0</td>\n",
       "      <td>0</td>\n",
       "      <td>0</td>\n",
       "      <td>0</td>\n",
       "    </tr>\n",
       "    <tr>\n",
       "      <th>2</th>\n",
       "      <td>0</td>\n",
       "      <td>1</td>\n",
       "      <td>0</td>\n",
       "      <td>0</td>\n",
       "      <td>0</td>\n",
       "    </tr>\n",
       "    <tr>\n",
       "      <th>3</th>\n",
       "      <td>1</td>\n",
       "      <td>0</td>\n",
       "      <td>0</td>\n",
       "      <td>0</td>\n",
       "      <td>0</td>\n",
       "    </tr>\n",
       "    <tr>\n",
       "      <th>4</th>\n",
       "      <td>1</td>\n",
       "      <td>0</td>\n",
       "      <td>0</td>\n",
       "      <td>0</td>\n",
       "      <td>0</td>\n",
       "    </tr>\n",
       "    <tr>\n",
       "      <th>...</th>\n",
       "      <td>...</td>\n",
       "      <td>...</td>\n",
       "      <td>...</td>\n",
       "      <td>...</td>\n",
       "      <td>...</td>\n",
       "    </tr>\n",
       "    <tr>\n",
       "      <th>336710</th>\n",
       "      <td>0</td>\n",
       "      <td>0</td>\n",
       "      <td>0</td>\n",
       "      <td>0</td>\n",
       "      <td>1</td>\n",
       "    </tr>\n",
       "    <tr>\n",
       "      <th>336711</th>\n",
       "      <td>0</td>\n",
       "      <td>0</td>\n",
       "      <td>0</td>\n",
       "      <td>0</td>\n",
       "      <td>1</td>\n",
       "    </tr>\n",
       "    <tr>\n",
       "      <th>336712</th>\n",
       "      <td>0</td>\n",
       "      <td>0</td>\n",
       "      <td>0</td>\n",
       "      <td>0</td>\n",
       "      <td>1</td>\n",
       "    </tr>\n",
       "    <tr>\n",
       "      <th>336713</th>\n",
       "      <td>0</td>\n",
       "      <td>0</td>\n",
       "      <td>0</td>\n",
       "      <td>0</td>\n",
       "      <td>1</td>\n",
       "    </tr>\n",
       "    <tr>\n",
       "      <th>336714</th>\n",
       "      <td>0</td>\n",
       "      <td>0</td>\n",
       "      <td>0</td>\n",
       "      <td>0</td>\n",
       "      <td>1</td>\n",
       "    </tr>\n",
       "  </tbody>\n",
       "</table>\n",
       "<p>336715 rows × 5 columns</p>\n",
       "</div>"
      ],
      "text/plain": [
       "        normal  Dos  Probe  R2L  U2R\n",
       "0            1    0      0    0    0\n",
       "1            1    0      0    0    0\n",
       "2            0    1      0    0    0\n",
       "3            1    0      0    0    0\n",
       "4            1    0      0    0    0\n",
       "...        ...  ...    ...  ...  ...\n",
       "336710       0    0      0    0    1\n",
       "336711       0    0      0    0    1\n",
       "336712       0    0      0    0    1\n",
       "336713       0    0      0    0    1\n",
       "336714       0    0      0    0    1\n",
       "\n",
       "[336715 rows x 5 columns]"
      ]
     },
     "execution_count": 4,
     "metadata": {},
     "output_type": "execute_result"
    }
   ],
   "source": [
    "categorical = pd.get_dummies(numeric_data['label'])\n",
    "categorical.rename(columns = {0 : 'normal', 1 : 'Dos' ,2: 'Probe',3: 'R2L',4 :'U2R'}, inplace = True)\n",
    "categorical"
   ]
  },
  {
   "cell_type": "code",
   "execution_count": 5,
   "id": "c9b3b85d",
   "metadata": {},
   "outputs": [],
   "source": [
    "numeric_data.drop('label',inplace=True, axis=1)\n",
    "numeric_data=numeric_data.join(categorical)\n"
   ]
  },
  {
   "cell_type": "code",
   "execution_count": 6,
   "id": "9bcf87dd",
   "metadata": {},
   "outputs": [],
   "source": [
    "X = numeric_data.iloc[:,0:29] # dataset excluding target attribute (encoded, one-hot-encoded,original)\n",
    "Y = numeric_data[['Dos','normal','Probe','R2L','U2R']] # target attributes"
   ]
  },
  {
   "cell_type": "code",
   "execution_count": 7,
   "id": "9f0328e0",
   "metadata": {},
   "outputs": [
    {
     "name": "stdout",
     "output_type": "stream",
     "text": [
      "(269372, 29) (67343, 29)\n",
      "(269372, 5) (67343, 5)\n"
     ]
    }
   ],
   "source": [
    "# X = numeric_data.iloc[:,0:29].to_numpy() \n",
    "# Y = numeric_data['label']\n",
    "X_train, X_test, Y_train, Y_test = train_test_split(X,Y, test_size=0.20, random_state=42)\n",
    "print(X_train.shape, X_test.shape)\n",
    "print(Y_train.shape, Y_test.shape)"
   ]
  },
  {
   "cell_type": "code",
   "execution_count": 57,
   "id": "810c55a8",
   "metadata": {},
   "outputs": [],
   "source": [
    "# X_train =X_train.reshape(X_train.shape[0],X_train.shape[1] , 5)\n",
    "# X_test = X_test.reshape(X_test.shape[0],X_test.shape[1] , 5)"
   ]
  },
  {
   "cell_type": "code",
   "execution_count": 8,
   "id": "fb8e6415",
   "metadata": {},
   "outputs": [],
   "source": [
    "\n",
    "batch_size = 100\n",
    "\n",
    "model = Sequential()\n",
    "model.add(Dense(25,input_dim=29,activation='relu'))  \n",
    "model.add(Dropout(0.1))\n",
    "model.add(Dense(20,activation='relu'))  \n",
    "model.add(Dropout(0.1))\n",
    "model.add(Dense(15,activation='relu'))  \n",
    "model.add(Dropout(0.1))\n",
    "model.add(Dense(20,activation='relu'))  \n",
    "model.add(Dropout(0.1))\n",
    "model.add(Dense(5))\n",
    "model.add(Activation('sigmoid'))\n",
    "\n",
    "model.compile(loss='binary_crossentropy',optimizer='adam',metrics=['accuracy'])\n",
    "\n"
   ]
  },
  {
   "cell_type": "code",
   "execution_count": 17,
   "id": "dbfbf19a",
   "metadata": {},
   "outputs": [
    {
     "name": "stdout",
     "output_type": "stream",
     "text": [
      "Epoch 1/100\n",
      "2694/2694 [==============================] - 9s 3ms/step - loss: 0.0289 - accuracy: 0.9771 - val_loss: 0.0193 - val_accuracy: 0.9861\n",
      "Epoch 2/100\n",
      "2694/2694 [==============================] - 11s 4ms/step - loss: 0.0291 - accuracy: 0.9772 - val_loss: 0.0184 - val_accuracy: 0.9870\n",
      "Epoch 3/100\n",
      "2694/2694 [==============================] - 11s 4ms/step - loss: 0.0288 - accuracy: 0.9777 - val_loss: 0.0203 - val_accuracy: 0.9834\n",
      "Epoch 4/100\n",
      "2694/2694 [==============================] - 11s 4ms/step - loss: 0.0300 - accuracy: 0.9766 - val_loss: 0.0199 - val_accuracy: 0.9843\n",
      "Epoch 5/100\n",
      "2694/2694 [==============================] - 11s 4ms/step - loss: 0.0296 - accuracy: 0.9768 - val_loss: 0.0217 - val_accuracy: 0.9817\n",
      "Epoch 6/100\n",
      "2694/2694 [==============================] - 12s 4ms/step - loss: 0.0285 - accuracy: 0.9778 - val_loss: 0.0232 - val_accuracy: 0.9832\n",
      "Epoch 7/100\n",
      "2694/2694 [==============================] - 10s 4ms/step - loss: 0.0295 - accuracy: 0.9770 - val_loss: 0.0191 - val_accuracy: 0.9853\n",
      "Epoch 8/100\n",
      "2694/2694 [==============================] - 10s 4ms/step - loss: 0.0288 - accuracy: 0.9778 - val_loss: 0.0203 - val_accuracy: 0.9849\n",
      "Epoch 9/100\n",
      "2694/2694 [==============================] - 10s 4ms/step - loss: 0.0289 - accuracy: 0.9778 - val_loss: 0.0207 - val_accuracy: 0.9833\n",
      "Epoch 10/100\n",
      "2694/2694 [==============================] - 10s 4ms/step - loss: 0.0286 - accuracy: 0.9777 - val_loss: 0.0183 - val_accuracy: 0.9853\n",
      "Epoch 11/100\n",
      "2694/2694 [==============================] - 10s 4ms/step - loss: 0.0290 - accuracy: 0.9775 - val_loss: 0.0191 - val_accuracy: 0.9860\n",
      "Epoch 12/100\n",
      "2694/2694 [==============================] - 11s 4ms/step - loss: 0.0292 - accuracy: 0.9771 - val_loss: 0.0196 - val_accuracy: 0.9847\n",
      "Epoch 13/100\n",
      "2694/2694 [==============================] - 10s 4ms/step - loss: 0.0289 - accuracy: 0.9771 - val_loss: 0.0195 - val_accuracy: 0.9842\n",
      "Epoch 14/100\n",
      "2694/2694 [==============================] - 9s 3ms/step - loss: 0.0288 - accuracy: 0.9772 - val_loss: 0.0186 - val_accuracy: 0.9863\n",
      "Epoch 15/100\n",
      "2694/2694 [==============================] - 10s 4ms/step - loss: 0.0294 - accuracy: 0.9770 - val_loss: 0.0240 - val_accuracy: 0.9834\n",
      "Epoch 16/100\n",
      "2694/2694 [==============================] - 8s 3ms/step - loss: 0.0295 - accuracy: 0.9765 - val_loss: 0.0214 - val_accuracy: 0.9835\n",
      "Epoch 17/100\n",
      "2694/2694 [==============================] - 9s 3ms/step - loss: 0.0286 - accuracy: 0.9776 - val_loss: 0.0198 - val_accuracy: 0.9840\n",
      "Epoch 18/100\n",
      "2694/2694 [==============================] - 9s 3ms/step - loss: 0.0294 - accuracy: 0.9768 - val_loss: 0.0192 - val_accuracy: 0.9854\n",
      "Epoch 19/100\n",
      "2694/2694 [==============================] - 10s 4ms/step - loss: 0.0306 - accuracy: 0.9764 - val_loss: 0.0223 - val_accuracy: 0.9830\n",
      "Epoch 20/100\n",
      "2694/2694 [==============================] - 10s 4ms/step - loss: 0.0293 - accuracy: 0.9769 - val_loss: 0.0189 - val_accuracy: 0.9869\n",
      "Epoch 21/100\n",
      "2694/2694 [==============================] - 8s 3ms/step - loss: 0.0288 - accuracy: 0.9774 - val_loss: 0.0218 - val_accuracy: 0.9820\n",
      "Epoch 22/100\n",
      "2694/2694 [==============================] - 9s 3ms/step - loss: 0.0285 - accuracy: 0.9776 - val_loss: 0.0193 - val_accuracy: 0.9853\n",
      "Epoch 23/100\n",
      "2694/2694 [==============================] - 10s 4ms/step - loss: 0.0288 - accuracy: 0.9771 - val_loss: 0.0194 - val_accuracy: 0.9849\n",
      "Epoch 24/100\n",
      "2694/2694 [==============================] - 9s 3ms/step - loss: 0.0288 - accuracy: 0.9775 - val_loss: 0.0203 - val_accuracy: 0.9847\n",
      "Epoch 25/100\n",
      "2694/2694 [==============================] - 8s 3ms/step - loss: 0.0299 - accuracy: 0.9765 - val_loss: 0.0191 - val_accuracy: 0.9854\n",
      "Epoch 26/100\n",
      "2694/2694 [==============================] - 8s 3ms/step - loss: 0.0290 - accuracy: 0.9776 - val_loss: 0.0205 - val_accuracy: 0.9844\n",
      "Epoch 27/100\n",
      "2694/2694 [==============================] - 9s 3ms/step - loss: 0.0287 - accuracy: 0.9779 - val_loss: 0.0192 - val_accuracy: 0.9847\n",
      "Epoch 28/100\n",
      "2694/2694 [==============================] - 8s 3ms/step - loss: 0.0290 - accuracy: 0.9775 - val_loss: 0.0210 - val_accuracy: 0.9854\n",
      "Epoch 29/100\n",
      "2694/2694 [==============================] - 8s 3ms/step - loss: 0.0284 - accuracy: 0.9779 - val_loss: 0.0195 - val_accuracy: 0.9854\n",
      "Epoch 30/100\n",
      "2694/2694 [==============================] - 8s 3ms/step - loss: 0.0288 - accuracy: 0.9774 - val_loss: 0.0194 - val_accuracy: 0.9861\n",
      "Epoch 31/100\n",
      "2694/2694 [==============================] - 8s 3ms/step - loss: 0.0284 - accuracy: 0.9778 - val_loss: 0.0188 - val_accuracy: 0.9860\n",
      "Epoch 32/100\n",
      "2694/2694 [==============================] - 8s 3ms/step - loss: 0.0289 - accuracy: 0.9774 - val_loss: 0.0274 - val_accuracy: 0.9759\n",
      "Epoch 33/100\n",
      "2694/2694 [==============================] - 8s 3ms/step - loss: 0.0294 - accuracy: 0.9772 - val_loss: 0.0197 - val_accuracy: 0.9856\n",
      "Epoch 34/100\n",
      "2694/2694 [==============================] - 8s 3ms/step - loss: 0.0288 - accuracy: 0.9775 - val_loss: 0.0185 - val_accuracy: 0.9869\n",
      "Epoch 35/100\n",
      "2694/2694 [==============================] - 8s 3ms/step - loss: 0.0283 - accuracy: 0.9777 - val_loss: 0.0213 - val_accuracy: 0.9826\n",
      "Epoch 36/100\n",
      "2694/2694 [==============================] - 8s 3ms/step - loss: 0.0292 - accuracy: 0.9773 - val_loss: 0.0191 - val_accuracy: 0.9859\n",
      "Epoch 37/100\n",
      "2694/2694 [==============================] - 8s 3ms/step - loss: 0.0282 - accuracy: 0.9780 - val_loss: 0.0195 - val_accuracy: 0.9855\n",
      "Epoch 38/100\n",
      "2694/2694 [==============================] - 8s 3ms/step - loss: 0.0286 - accuracy: 0.9777 - val_loss: 0.0214 - val_accuracy: 0.9843\n",
      "Epoch 39/100\n",
      "2694/2694 [==============================] - 8s 3ms/step - loss: 0.0286 - accuracy: 0.9779 - val_loss: 0.0195 - val_accuracy: 0.9852\n",
      "Epoch 40/100\n",
      "2694/2694 [==============================] - 8s 3ms/step - loss: 0.0286 - accuracy: 0.9776 - val_loss: 0.0206 - val_accuracy: 0.9831\n",
      "Epoch 41/100\n",
      "2694/2694 [==============================] - 8s 3ms/step - loss: 0.0290 - accuracy: 0.9772 - val_loss: 0.0198 - val_accuracy: 0.9847\n",
      "Epoch 42/100\n",
      "2694/2694 [==============================] - 8s 3ms/step - loss: 0.0283 - accuracy: 0.9780 - val_loss: 0.0197 - val_accuracy: 0.9851\n",
      "Epoch 43/100\n",
      "2694/2694 [==============================] - 8s 3ms/step - loss: 0.0286 - accuracy: 0.9775 - val_loss: 0.0195 - val_accuracy: 0.9855\n",
      "Epoch 44/100\n",
      "2694/2694 [==============================] - 8s 3ms/step - loss: 0.0297 - accuracy: 0.9764 - val_loss: 0.0187 - val_accuracy: 0.9865\n",
      "Epoch 45/100\n",
      "2694/2694 [==============================] - 8s 3ms/step - loss: 0.0289 - accuracy: 0.9774 - val_loss: 0.0184 - val_accuracy: 0.9863\n",
      "Epoch 46/100\n",
      "2694/2694 [==============================] - 9s 3ms/step - loss: 0.0291 - accuracy: 0.9769 - val_loss: 0.0219 - val_accuracy: 0.9837\n",
      "Epoch 47/100\n",
      "2694/2694 [==============================] - 8s 3ms/step - loss: 0.0292 - accuracy: 0.9770 - val_loss: 0.0209 - val_accuracy: 0.9839\n",
      "Epoch 48/100\n",
      "2694/2694 [==============================] - 8s 3ms/step - loss: 0.0291 - accuracy: 0.9771 - val_loss: 0.0200 - val_accuracy: 0.9842\n",
      "Epoch 49/100\n",
      "2694/2694 [==============================] - 8s 3ms/step - loss: 0.0286 - accuracy: 0.9776 - val_loss: 0.0224 - val_accuracy: 0.9830\n",
      "Epoch 50/100\n",
      "2694/2694 [==============================] - 8s 3ms/step - loss: 0.0284 - accuracy: 0.9781 - val_loss: 0.0200 - val_accuracy: 0.9852\n",
      "Epoch 51/100\n",
      "2694/2694 [==============================] - 8s 3ms/step - loss: 0.0287 - accuracy: 0.9775 - val_loss: 0.0194 - val_accuracy: 0.9843\n",
      "Epoch 52/100\n",
      "2694/2694 [==============================] - 8s 3ms/step - loss: 0.0286 - accuracy: 0.9777 - val_loss: 0.0193 - val_accuracy: 0.9859\n",
      "Epoch 53/100\n",
      "2694/2694 [==============================] - 8s 3ms/step - loss: 0.0293 - accuracy: 0.9770 - val_loss: 0.0391 - val_accuracy: 0.9405\n",
      "Epoch 54/100\n",
      "2694/2694 [==============================] - 8s 3ms/step - loss: 0.0290 - accuracy: 0.9775 - val_loss: 0.0186 - val_accuracy: 0.9861\n",
      "Epoch 55/100\n",
      "2694/2694 [==============================] - 8s 3ms/step - loss: 0.0281 - accuracy: 0.9780 - val_loss: 0.0194 - val_accuracy: 0.9862\n",
      "Epoch 56/100\n",
      "2694/2694 [==============================] - 8s 3ms/step - loss: 0.0282 - accuracy: 0.9782 - val_loss: 0.0205 - val_accuracy: 0.9836\n",
      "Epoch 57/100\n"
     ]
    },
    {
     "name": "stdout",
     "output_type": "stream",
     "text": [
      "2694/2694 [==============================] - 8s 3ms/step - loss: 0.0284 - accuracy: 0.9781 - val_loss: 0.0183 - val_accuracy: 0.9868\n",
      "Epoch 58/100\n",
      "2694/2694 [==============================] - 8s 3ms/step - loss: 0.0276 - accuracy: 0.9787 - val_loss: 0.0193 - val_accuracy: 0.9841\n",
      "Epoch 59/100\n",
      "2694/2694 [==============================] - 8s 3ms/step - loss: 0.0284 - accuracy: 0.9780 - val_loss: 0.0198 - val_accuracy: 0.9860\n",
      "Epoch 60/100\n",
      "2694/2694 [==============================] - 8s 3ms/step - loss: 0.0288 - accuracy: 0.9777 - val_loss: 0.0201 - val_accuracy: 0.9857\n",
      "Epoch 61/100\n",
      "2694/2694 [==============================] - 8s 3ms/step - loss: 0.0289 - accuracy: 0.9775 - val_loss: 0.0205 - val_accuracy: 0.9839\n",
      "Epoch 62/100\n",
      "2694/2694 [==============================] - 8s 3ms/step - loss: 0.0281 - accuracy: 0.9780 - val_loss: 0.0190 - val_accuracy: 0.9856\n",
      "Epoch 63/100\n",
      "2694/2694 [==============================] - 8s 3ms/step - loss: 0.0300 - accuracy: 0.9764 - val_loss: 0.0198 - val_accuracy: 0.9856\n",
      "Epoch 64/100\n",
      "2694/2694 [==============================] - 8s 3ms/step - loss: 0.0288 - accuracy: 0.9774 - val_loss: 0.0196 - val_accuracy: 0.9858\n",
      "Epoch 65/100\n",
      "2694/2694 [==============================] - 9s 3ms/step - loss: 0.0280 - accuracy: 0.9784 - val_loss: 0.0183 - val_accuracy: 0.9868\n",
      "Epoch 66/100\n",
      "2694/2694 [==============================] - 8s 3ms/step - loss: 0.0283 - accuracy: 0.9783 - val_loss: 0.0208 - val_accuracy: 0.9832\n",
      "Epoch 67/100\n",
      "2694/2694 [==============================] - 8s 3ms/step - loss: 0.0287 - accuracy: 0.9775 - val_loss: 0.0201 - val_accuracy: 0.9858\n",
      "Epoch 68/100\n",
      "2694/2694 [==============================] - 8s 3ms/step - loss: 0.0281 - accuracy: 0.9782 - val_loss: 0.0229 - val_accuracy: 0.9815\n",
      "Epoch 69/100\n",
      "2694/2694 [==============================] - 8s 3ms/step - loss: 0.0282 - accuracy: 0.9781 - val_loss: 0.0197 - val_accuracy: 0.9858\n",
      "Epoch 70/100\n",
      "2694/2694 [==============================] - 8s 3ms/step - loss: 0.0281 - accuracy: 0.9779 - val_loss: 0.0188 - val_accuracy: 0.9857\n",
      "Epoch 71/100\n",
      "2694/2694 [==============================] - 8s 3ms/step - loss: 0.0283 - accuracy: 0.9779 - val_loss: 0.0194 - val_accuracy: 0.9865\n",
      "Epoch 72/100\n",
      "2694/2694 [==============================] - 8s 3ms/step - loss: 0.0283 - accuracy: 0.9775 - val_loss: 0.0191 - val_accuracy: 0.9857\n",
      "Epoch 73/100\n",
      "2694/2694 [==============================] - 8s 3ms/step - loss: 0.0286 - accuracy: 0.9779 - val_loss: 0.0189 - val_accuracy: 0.9855\n",
      "Epoch 74/100\n",
      "2694/2694 [==============================] - 8s 3ms/step - loss: 0.0284 - accuracy: 0.9780 - val_loss: 0.0242 - val_accuracy: 0.9805\n",
      "Epoch 75/100\n",
      "2694/2694 [==============================] - 8s 3ms/step - loss: 0.0285 - accuracy: 0.9778 - val_loss: 0.0195 - val_accuracy: 0.9853\n",
      "Epoch 76/100\n",
      "2694/2694 [==============================] - 8s 3ms/step - loss: 0.0282 - accuracy: 0.9783 - val_loss: 0.0202 - val_accuracy: 0.9841\n",
      "Epoch 77/100\n",
      "2694/2694 [==============================] - 8s 3ms/step - loss: 0.0294 - accuracy: 0.9769 - val_loss: 0.0184 - val_accuracy: 0.9864\n",
      "Epoch 78/100\n",
      "2694/2694 [==============================] - 8s 3ms/step - loss: 0.0284 - accuracy: 0.9782 - val_loss: 0.0204 - val_accuracy: 0.9841\n",
      "Epoch 79/100\n",
      "2694/2694 [==============================] - 8s 3ms/step - loss: 0.0287 - accuracy: 0.9779 - val_loss: 0.0187 - val_accuracy: 0.9874\n",
      "Epoch 80/100\n",
      "2694/2694 [==============================] - 8s 3ms/step - loss: 0.0287 - accuracy: 0.9781 - val_loss: 0.0197 - val_accuracy: 0.9844\n",
      "Epoch 81/100\n",
      "2694/2694 [==============================] - 8s 3ms/step - loss: 0.0281 - accuracy: 0.9784 - val_loss: 0.0189 - val_accuracy: 0.9849\n",
      "Epoch 82/100\n",
      "2694/2694 [==============================] - 8s 3ms/step - loss: 0.0282 - accuracy: 0.9780 - val_loss: 0.0200 - val_accuracy: 0.9841\n",
      "Epoch 83/100\n",
      "2694/2694 [==============================] - 8s 3ms/step - loss: 0.0279 - accuracy: 0.9784 - val_loss: 0.0207 - val_accuracy: 0.9842\n",
      "Epoch 84/100\n",
      "2694/2694 [==============================] - 8s 3ms/step - loss: 0.0284 - accuracy: 0.9784 - val_loss: 0.0186 - val_accuracy: 0.9868\n",
      "Epoch 85/100\n",
      "2694/2694 [==============================] - 8s 3ms/step - loss: 0.0278 - accuracy: 0.9786 - val_loss: 0.0200 - val_accuracy: 0.9847\n",
      "Epoch 86/100\n",
      "2694/2694 [==============================] - 9s 3ms/step - loss: 0.0280 - accuracy: 0.9783 - val_loss: 0.0187 - val_accuracy: 0.9862\n",
      "Epoch 87/100\n",
      "2694/2694 [==============================] - 8s 3ms/step - loss: 0.0287 - accuracy: 0.9781 - val_loss: 0.0182 - val_accuracy: 0.9868\n",
      "Epoch 88/100\n",
      "2694/2694 [==============================] - 8s 3ms/step - loss: 0.0275 - accuracy: 0.9787 - val_loss: 0.0193 - val_accuracy: 0.9852\n",
      "Epoch 89/100\n",
      "2694/2694 [==============================] - 8s 3ms/step - loss: 0.0279 - accuracy: 0.9784 - val_loss: 0.0196 - val_accuracy: 0.9870\n",
      "Epoch 90/100\n",
      "2694/2694 [==============================] - 8s 3ms/step - loss: 0.0281 - accuracy: 0.9780 - val_loss: 0.0198 - val_accuracy: 0.9842\n",
      "Epoch 91/100\n",
      "2694/2694 [==============================] - 8s 3ms/step - loss: 0.0290 - accuracy: 0.9775 - val_loss: 0.0194 - val_accuracy: 0.9842\n",
      "Epoch 92/100\n",
      "2694/2694 [==============================] - 8s 3ms/step - loss: 0.0283 - accuracy: 0.9779 - val_loss: 0.0190 - val_accuracy: 0.9858\n",
      "Epoch 93/100\n",
      "2694/2694 [==============================] - 8s 3ms/step - loss: 0.0285 - accuracy: 0.9777 - val_loss: 0.0188 - val_accuracy: 0.9867\n",
      "Epoch 94/100\n",
      "2694/2694 [==============================] - 8s 3ms/step - loss: 0.0279 - accuracy: 0.9786 - val_loss: 0.0218 - val_accuracy: 0.9828\n",
      "Epoch 95/100\n",
      "2694/2694 [==============================] - 8s 3ms/step - loss: 0.0281 - accuracy: 0.9784 - val_loss: 0.0189 - val_accuracy: 0.9862\n",
      "Epoch 96/100\n",
      "2694/2694 [==============================] - 9s 3ms/step - loss: 0.0279 - accuracy: 0.9784 - val_loss: 0.0188 - val_accuracy: 0.9860\n",
      "Epoch 97/100\n",
      "2694/2694 [==============================] - 8s 3ms/step - loss: 0.0281 - accuracy: 0.9784 - val_loss: 0.0200 - val_accuracy: 0.9849\n",
      "Epoch 98/100\n",
      "2694/2694 [==============================] - 8s 3ms/step - loss: 0.0286 - accuracy: 0.9777 - val_loss: 0.0179 - val_accuracy: 0.9875\n",
      "Epoch 99/100\n",
      "2694/2694 [==============================] - 8s 3ms/step - loss: 0.0274 - accuracy: 0.9789 - val_loss: 0.0188 - val_accuracy: 0.9863\n",
      "Epoch 100/100\n",
      "2694/2694 [==============================] - 8s 3ms/step - loss: 0.0277 - accuracy: 0.9790 - val_loss: 0.0196 - val_accuracy: 0.9854\n",
      "<bound method Model.summary of <keras.engine.sequential.Sequential object at 0x0000020E34315D90>>\n"
     ]
    }
   ],
   "source": [
    "history = model.fit(X_train, Y_train, batch_size=batch_size, epochs=100, validation_data=(X_test,Y_test))\n",
    "\n",
    "print(model.summary)"
   ]
  },
  {
   "cell_type": "markdown",
   "id": "84349bfe",
   "metadata": {},
   "source": [
    "##### Dropout is a technique where randomly selected neurons are ignored during training. They are “dropped out” randomly. This means that their contribution to the activation of downstream neurons is temporally removed on the forward pass, and any weight updates are not applied to the neuron on the backward pass."
   ]
  },
  {
   "cell_type": "code",
   "execution_count": 18,
   "id": "131f00e2",
   "metadata": {},
   "outputs": [
    {
     "name": "stdout",
     "output_type": "stream",
     "text": [
      "2105/2105 [==============================] - 3s 1ms/step\n"
     ]
    }
   ],
   "source": [
    "\n",
    "pred=model.predict(X_test)"
   ]
  },
  {
   "cell_type": "code",
   "execution_count": 19,
   "id": "58bf9626",
   "metadata": {},
   "outputs": [],
   "source": [
    "for j in range(0,pred.shape[1]):\n",
    "  for i in range(0,pred.shape[0]):\n",
    "    pred[i][j] = int(round(pred[i][j]))"
   ]
  },
  {
   "cell_type": "code",
   "execution_count": 20,
   "id": "92e13e54",
   "metadata": {},
   "outputs": [
    {
     "name": "stdout",
     "output_type": "stream",
     "text": [
      "2105/2105 [==============================] - 3s 2ms/step - loss: 0.0196 - accuracy: 0.9854\n",
      "Accuracy: 0.9853882193565369\n",
      "Recall Score -  0.984957605096298\n",
      "F1 Score -  0.9854844221254847\n",
      "Precision Score -  0.9860118030057529\n",
      "Log Loss -  0.47620172654120435\n"
     ]
    }
   ],
   "source": [
    "pred_df = pd.DataFrame(pred)\n",
    "test_results = model.evaluate(X_test, Y_test, verbose=1)\n",
    "print(f'Accuracy: {test_results[1]}')\n",
    "print(\"Recall Score - \",recall_score(Y_test,pred_df,average='micro'))\n",
    "print(\"F1 Score - \",f1_score(Y_test,pred_df.astype('uint8'),average='micro'))\n",
    "print(\"Precision Score - \",precision_score(Y_test,pred_df.astype('uint8'),average='micro'))\n",
    "print(\"Log Loss - \",log_loss(Y_test, pred))"
   ]
  },
  {
   "cell_type": "code",
   "execution_count": 23,
   "id": "6bbeb3ee",
   "metadata": {},
   "outputs": [],
   "source": [
    "# print(\"MCC score - \",matthews_corrcoef(Y_test, pred_df))\n",
    "# cohen_kappa_score(Y_test, pred_df)"
   ]
  },
  {
   "cell_type": "code",
   "execution_count": 48,
   "id": "17b0d3ca",
   "metadata": {},
   "outputs": [],
   "source": [
    "\n",
    "# print(\"Log Loss - \",log_loss(Y_test, pred))"
   ]
  },
  {
   "cell_type": "code",
   "execution_count": 28,
   "id": "d43ba27d",
   "metadata": {
    "scrolled": true
   },
   "outputs": [
    {
     "name": "stdout",
     "output_type": "stream",
     "text": [
      "              precision    recall  f1-score   support\n",
      "\n",
      "           0       1.00      1.00      1.00     13453\n",
      "           1       0.99      0.97      0.98     13434\n",
      "           2       0.99      0.99      0.99     13453\n",
      "           3       0.98      0.97      0.97     13632\n",
      "           4       0.97      0.99      0.98     13371\n",
      "\n",
      "   micro avg       0.98      0.98      0.98     67343\n",
      "   macro avg       0.98      0.98      0.98     67343\n",
      "weighted avg       0.98      0.98      0.98     67343\n",
      " samples avg       0.98      0.98      0.98     67343\n",
      "\n"
     ]
    }
   ],
   "source": [
    "\n",
    "from sklearn.metrics import classification_report, confusion_matrix \n",
    "print(classification_report(Y_test,pred))"
   ]
  },
  {
   "cell_type": "code",
   "execution_count": 20,
   "id": "49e5d589",
   "metadata": {},
   "outputs": [
    {
     "name": "stdout",
     "output_type": "stream",
     "text": [
      "2105/2105 [==============================] - 7s 3ms/step - loss: 0.0331 - accuracy: 0.9694\n"
     ]
    },
    {
     "data": {
      "text/plain": [
       "[0.033085163682699203, 0.9693657755851746]"
      ]
     },
     "execution_count": 20,
     "metadata": {},
     "output_type": "execute_result"
    }
   ],
   "source": [
    " model.evaluate(X_test, Y_test, verbose=1)"
   ]
  },
  {
   "cell_type": "code",
   "execution_count": null,
   "id": "99a29226",
   "metadata": {},
   "outputs": [],
   "source": []
  }
 ],
 "metadata": {
  "kernelspec": {
   "display_name": "Python 3 (ipykernel)",
   "language": "python",
   "name": "python3"
  },
  "language_info": {
   "codemirror_mode": {
    "name": "ipython",
    "version": 3
   },
   "file_extension": ".py",
   "mimetype": "text/x-python",
   "name": "python",
   "nbconvert_exporter": "python",
   "pygments_lexer": "ipython3",
   "version": "3.9.6"
  }
 },
 "nbformat": 4,
 "nbformat_minor": 5
}
