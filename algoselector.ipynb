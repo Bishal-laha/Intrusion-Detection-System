{
 "cells": [
  {
   "cell_type": "code",
   "execution_count": 1,
   "id": "00da3817",
   "metadata": {},
   "outputs": [],
   "source": [
    "from sklearn.ensemble import RandomForestClassifier\n",
    "from sklearn.naive_bayes import GaussianNB\n",
    "from sklearn.tree import DecisionTreeClassifier \n",
    "from sklearn.neighbors import KNeighborsClassifier\n",
    "from sklearn.linear_model import LogisticRegression\n",
    "from sklearn.ensemble import StackingClassifier"
   ]
  },
  {
   "cell_type": "code",
   "execution_count": 2,
   "id": "7eb8038c",
   "metadata": {},
   "outputs": [],
   "source": [
    "# from itertools import combinations,product\n",
    "# algo_list = [\n",
    "#     ('GAUSSIAN NB',GaussianNB()),\n",
    "#     ('DT',DecisionTreeClassifier(criterion=\"entropy\", max_depth = 4)),\n",
    "#     ('RF',RandomForestClassifier(n_estimators=30)),\n",
    "#     ('LR',LogisticRegression(max_iter=1200000)),\n",
    "#     ('KNN',KNeighborsClassifier(3))\n",
    "#     ]\n",
    "# list_combo = []\n",
    "# for n in range(len(algo_list) + 1):\n",
    "#     list_combo += combinations(algo_list, n)\n",
    "# res = list_combo[5:len(list_combo)]\n",
    "# for i in res:\n",
    "#     print(i)"
   ]
  },
  {
   "cell_type": "code",
   "execution_count": null,
   "id": "bad048e6",
   "metadata": {},
   "outputs": [],
   "source": []
  },
  {
   "cell_type": "code",
   "execution_count": 13,
   "id": "32c75a96",
   "metadata": {},
   "outputs": [
    {
     "name": "stdout",
     "output_type": "stream",
     "text": [
      "26\n",
      "('KNN', 'GAUSSIAN NB')\n",
      "('KNN', 'DT')\n",
      "('KNN', 'RF')\n",
      "('KNN', 'LR')\n",
      "('GAUSSIAN NB', 'DT')\n",
      "('GAUSSIAN NB', 'RF')\n",
      "('GAUSSIAN NB', 'LR')\n",
      "('DT', 'RF')\n",
      "('DT', 'LR')\n",
      "('RF', 'LR')\n",
      "('KNN', 'GAUSSIAN NB', 'DT')\n",
      "('KNN', 'GAUSSIAN NB', 'RF')\n",
      "('KNN', 'GAUSSIAN NB', 'LR')\n",
      "('KNN', 'DT', 'RF')\n",
      "('KNN', 'DT', 'LR')\n",
      "('KNN', 'RF', 'LR')\n",
      "('GAUSSIAN NB', 'DT', 'RF')\n",
      "('GAUSSIAN NB', 'DT', 'LR')\n",
      "('GAUSSIAN NB', 'RF', 'LR')\n",
      "('DT', 'RF', 'LR')\n",
      "('KNN', 'GAUSSIAN NB', 'DT', 'RF')\n",
      "('KNN', 'GAUSSIAN NB', 'DT', 'LR')\n",
      "('KNN', 'GAUSSIAN NB', 'RF', 'LR')\n",
      "('KNN', 'DT', 'RF', 'LR')\n",
      "('GAUSSIAN NB', 'DT', 'RF', 'LR')\n",
      "('KNN', 'GAUSSIAN NB', 'DT', 'RF', 'LR')\n"
     ]
    }
   ],
   "source": [
    "from itertools import combinations,product\n",
    "algo_list = [\n",
    "    ('KNN'),\n",
    "    ('GAUSSIAN NB'),\n",
    "    ('DT'),\n",
    "    ('RF'),\n",
    "    ('LR')\n",
    "    ]\n",
    "list_combo = []\n",
    "for n in range(len(algo_list) + 1):\n",
    "    list_combo += combinations(algo_list, n)\n",
    "\n",
    "res = list_combo[6:len(list_combo)]\n",
    "print(len(res))\n",
    "for i in res:\n",
    "    print(i)"
   ]
  },
  {
   "cell_type": "code",
   "execution_count": 22,
   "id": "83e0cbbf",
   "metadata": {},
   "outputs": [
    {
     "name": "stdout",
     "output_type": "stream",
     "text": [
      "15\n",
      "('KNN', 'GAUSSIAN NB')\n",
      "('KNN', 'DT')\n",
      "('KNN', 'RF')\n",
      "('KNN', 'LR')\n",
      "('KNN', 'GAUSSIAN NB', 'DT')\n",
      "('KNN', 'GAUSSIAN NB', 'RF')\n",
      "('KNN', 'GAUSSIAN NB', 'LR')\n",
      "('KNN', 'DT', 'RF')\n",
      "('KNN', 'DT', 'LR')\n",
      "('KNN', 'RF', 'LR')\n",
      "('KNN', 'GAUSSIAN NB', 'DT', 'RF')\n",
      "('KNN', 'GAUSSIAN NB', 'DT', 'LR')\n",
      "('KNN', 'GAUSSIAN NB', 'RF', 'LR')\n",
      "('KNN', 'DT', 'RF', 'LR')\n",
      "('KNN', 'GAUSSIAN NB', 'DT', 'RF', 'LR')\n"
     ]
    }
   ],
   "source": [
    "from itertools import combinations,product\n",
    "algo_list = [\n",
    "    ('KNN'),\n",
    "    ('GAUSSIAN NB'),\n",
    "    ('DT'),\n",
    "    ('RF'),\n",
    "    ('LR')\n",
    "    ]\n",
    "list_combo = []\n",
    "for n in range(len(algo_list) + 1):\n",
    "    list_combo += combinations(algo_list, n)\n",
    "    \n",
    "\n",
    "res = list_combo[6:10]+list_combo[16:22]+list_combo[26:30]+list_combo[31:32]\n",
    "print(len(res))\n",
    "for i in res:\n",
    "    print(i)"
   ]
  },
  {
   "cell_type": "code",
   "execution_count": 8,
   "id": "5cf7ec8c",
   "metadata": {},
   "outputs": [],
   "source": [
    "# from itertools import combinations,product\n",
    "# algo_list = [\n",
    "#     ('SVM'),\n",
    "#     ('KNN'),\n",
    "#     ('GAUSSIAN NB'),\n",
    "#     ('DT'),\n",
    "#     ('RF'),\n",
    "#     ('LR')\n",
    "#     ]\n",
    "# list_combo = []\n",
    "# for n in range(len(algo_list) + 1):\n",
    "#     list_combo += combinations(algo_list, n)\n",
    "    \n",
    "\n",
    "# res = list_combo[27:32]\n",
    "# print(len(res))\n",
    "# for i in res:\n",
    "#     print(i)\n",
    "\n",
    "# #2->5\n",
    "# # 3->10\n",
    "# #4->10\n",
    "# #5->5\n",
    "# #6->1"
   ]
  },
  {
   "cell_type": "code",
   "execution_count": null,
   "id": "f9dd5d4d",
   "metadata": {},
   "outputs": [],
   "source": []
  }
 ],
 "metadata": {
  "kernelspec": {
   "display_name": "Python 3 (ipykernel)",
   "language": "python",
   "name": "python3"
  },
  "language_info": {
   "codemirror_mode": {
    "name": "ipython",
    "version": 3
   },
   "file_extension": ".py",
   "mimetype": "text/x-python",
   "name": "python",
   "nbconvert_exporter": "python",
   "pygments_lexer": "ipython3",
   "version": "3.10.9"
  }
 },
 "nbformat": 4,
 "nbformat_minor": 5
}
